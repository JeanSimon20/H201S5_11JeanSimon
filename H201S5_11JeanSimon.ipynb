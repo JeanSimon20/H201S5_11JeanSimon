{
  "cells": [
    {
      "cell_type": "code",
      "execution_count": 28,
      "metadata": {
        "dc": {
          "key": "3"
        },
        "tags": [
          "sample_code"
        ],
        "id": "msS2d0dnEXM2",
        "outputId": "045acf8c-e3c0-458f-fa2b-b6c90f078195",
        "colab": {
          "base_uri": "https://localhost:8080/",
          "height": 206
        }
      },
      "outputs": [
        {
          "output_type": "execute_result",
          "data": {
            "text/plain": [
              "  0        1        2  3  4  5  6         7  8  9    10 11 12     13     14 15\n",
              "0  b    30.83     0.00  u  g  w  v      1.25  t  t  1.0  f  g  202.0    0.0  +\n",
              "1  a    58.67     4.46  u  g  q  h  44654.00  t  t  6.0  f  g   43.0  560.0  +\n",
              "2  a  44705.0     0.50  u  g  q  h  44682.00  t  f  0.0  f  g  280.0  824.0  +\n",
              "3  b    27.83     1.54  u  g  w  v      3.75  t  t  5.0  t  g  100.0    3.0  +\n",
              "4  b    20.17  5625.00  u  g  w  v      1.71  t  f  0.0  f  s  120.0    0.0  +"
            ],
            "text/html": [
              "\n",
              "  <div id=\"df-308e7206-c3ae-4d2d-b390-ecb620c56056\">\n",
              "    <div class=\"colab-df-container\">\n",
              "      <div>\n",
              "<style scoped>\n",
              "    .dataframe tbody tr th:only-of-type {\n",
              "        vertical-align: middle;\n",
              "    }\n",
              "\n",
              "    .dataframe tbody tr th {\n",
              "        vertical-align: top;\n",
              "    }\n",
              "\n",
              "    .dataframe thead th {\n",
              "        text-align: right;\n",
              "    }\n",
              "</style>\n",
              "<table border=\"1\" class=\"dataframe\">\n",
              "  <thead>\n",
              "    <tr style=\"text-align: right;\">\n",
              "      <th></th>\n",
              "      <th>0</th>\n",
              "      <th>1</th>\n",
              "      <th>2</th>\n",
              "      <th>3</th>\n",
              "      <th>4</th>\n",
              "      <th>5</th>\n",
              "      <th>6</th>\n",
              "      <th>7</th>\n",
              "      <th>8</th>\n",
              "      <th>9</th>\n",
              "      <th>10</th>\n",
              "      <th>11</th>\n",
              "      <th>12</th>\n",
              "      <th>13</th>\n",
              "      <th>14</th>\n",
              "      <th>15</th>\n",
              "    </tr>\n",
              "  </thead>\n",
              "  <tbody>\n",
              "    <tr>\n",
              "      <th>0</th>\n",
              "      <td>b</td>\n",
              "      <td>30.83</td>\n",
              "      <td>0.00</td>\n",
              "      <td>u</td>\n",
              "      <td>g</td>\n",
              "      <td>w</td>\n",
              "      <td>v</td>\n",
              "      <td>1.25</td>\n",
              "      <td>t</td>\n",
              "      <td>t</td>\n",
              "      <td>1.0</td>\n",
              "      <td>f</td>\n",
              "      <td>g</td>\n",
              "      <td>202.0</td>\n",
              "      <td>0.0</td>\n",
              "      <td>+</td>\n",
              "    </tr>\n",
              "    <tr>\n",
              "      <th>1</th>\n",
              "      <td>a</td>\n",
              "      <td>58.67</td>\n",
              "      <td>4.46</td>\n",
              "      <td>u</td>\n",
              "      <td>g</td>\n",
              "      <td>q</td>\n",
              "      <td>h</td>\n",
              "      <td>44654.00</td>\n",
              "      <td>t</td>\n",
              "      <td>t</td>\n",
              "      <td>6.0</td>\n",
              "      <td>f</td>\n",
              "      <td>g</td>\n",
              "      <td>43.0</td>\n",
              "      <td>560.0</td>\n",
              "      <td>+</td>\n",
              "    </tr>\n",
              "    <tr>\n",
              "      <th>2</th>\n",
              "      <td>a</td>\n",
              "      <td>44705.0</td>\n",
              "      <td>0.50</td>\n",
              "      <td>u</td>\n",
              "      <td>g</td>\n",
              "      <td>q</td>\n",
              "      <td>h</td>\n",
              "      <td>44682.00</td>\n",
              "      <td>t</td>\n",
              "      <td>f</td>\n",
              "      <td>0.0</td>\n",
              "      <td>f</td>\n",
              "      <td>g</td>\n",
              "      <td>280.0</td>\n",
              "      <td>824.0</td>\n",
              "      <td>+</td>\n",
              "    </tr>\n",
              "    <tr>\n",
              "      <th>3</th>\n",
              "      <td>b</td>\n",
              "      <td>27.83</td>\n",
              "      <td>1.54</td>\n",
              "      <td>u</td>\n",
              "      <td>g</td>\n",
              "      <td>w</td>\n",
              "      <td>v</td>\n",
              "      <td>3.75</td>\n",
              "      <td>t</td>\n",
              "      <td>t</td>\n",
              "      <td>5.0</td>\n",
              "      <td>t</td>\n",
              "      <td>g</td>\n",
              "      <td>100.0</td>\n",
              "      <td>3.0</td>\n",
              "      <td>+</td>\n",
              "    </tr>\n",
              "    <tr>\n",
              "      <th>4</th>\n",
              "      <td>b</td>\n",
              "      <td>20.17</td>\n",
              "      <td>5625.00</td>\n",
              "      <td>u</td>\n",
              "      <td>g</td>\n",
              "      <td>w</td>\n",
              "      <td>v</td>\n",
              "      <td>1.71</td>\n",
              "      <td>t</td>\n",
              "      <td>f</td>\n",
              "      <td>0.0</td>\n",
              "      <td>f</td>\n",
              "      <td>s</td>\n",
              "      <td>120.0</td>\n",
              "      <td>0.0</td>\n",
              "      <td>+</td>\n",
              "    </tr>\n",
              "  </tbody>\n",
              "</table>\n",
              "</div>\n",
              "      <button class=\"colab-df-convert\" onclick=\"convertToInteractive('df-308e7206-c3ae-4d2d-b390-ecb620c56056')\"\n",
              "              title=\"Convert this dataframe to an interactive table.\"\n",
              "              style=\"display:none;\">\n",
              "        \n",
              "  <svg xmlns=\"http://www.w3.org/2000/svg\" height=\"24px\"viewBox=\"0 0 24 24\"\n",
              "       width=\"24px\">\n",
              "    <path d=\"M0 0h24v24H0V0z\" fill=\"none\"/>\n",
              "    <path d=\"M18.56 5.44l.94 2.06.94-2.06 2.06-.94-2.06-.94-.94-2.06-.94 2.06-2.06.94zm-11 1L8.5 8.5l.94-2.06 2.06-.94-2.06-.94L8.5 2.5l-.94 2.06-2.06.94zm10 10l.94 2.06.94-2.06 2.06-.94-2.06-.94-.94-2.06-.94 2.06-2.06.94z\"/><path d=\"M17.41 7.96l-1.37-1.37c-.4-.4-.92-.59-1.43-.59-.52 0-1.04.2-1.43.59L10.3 9.45l-7.72 7.72c-.78.78-.78 2.05 0 2.83L4 21.41c.39.39.9.59 1.41.59.51 0 1.02-.2 1.41-.59l7.78-7.78 2.81-2.81c.8-.78.8-2.07 0-2.86zM5.41 20L4 18.59l7.72-7.72 1.47 1.35L5.41 20z\"/>\n",
              "  </svg>\n",
              "      </button>\n",
              "      \n",
              "  <style>\n",
              "    .colab-df-container {\n",
              "      display:flex;\n",
              "      flex-wrap:wrap;\n",
              "      gap: 12px;\n",
              "    }\n",
              "\n",
              "    .colab-df-convert {\n",
              "      background-color: #E8F0FE;\n",
              "      border: none;\n",
              "      border-radius: 50%;\n",
              "      cursor: pointer;\n",
              "      display: none;\n",
              "      fill: #1967D2;\n",
              "      height: 32px;\n",
              "      padding: 0 0 0 0;\n",
              "      width: 32px;\n",
              "    }\n",
              "\n",
              "    .colab-df-convert:hover {\n",
              "      background-color: #E2EBFA;\n",
              "      box-shadow: 0px 1px 2px rgba(60, 64, 67, 0.3), 0px 1px 3px 1px rgba(60, 64, 67, 0.15);\n",
              "      fill: #174EA6;\n",
              "    }\n",
              "\n",
              "    [theme=dark] .colab-df-convert {\n",
              "      background-color: #3B4455;\n",
              "      fill: #D2E3FC;\n",
              "    }\n",
              "\n",
              "    [theme=dark] .colab-df-convert:hover {\n",
              "      background-color: #434B5C;\n",
              "      box-shadow: 0px 1px 3px 1px rgba(0, 0, 0, 0.15);\n",
              "      filter: drop-shadow(0px 1px 2px rgba(0, 0, 0, 0.3));\n",
              "      fill: #FFFFFF;\n",
              "    }\n",
              "  </style>\n",
              "\n",
              "      <script>\n",
              "        const buttonEl =\n",
              "          document.querySelector('#df-308e7206-c3ae-4d2d-b390-ecb620c56056 button.colab-df-convert');\n",
              "        buttonEl.style.display =\n",
              "          google.colab.kernel.accessAllowed ? 'block' : 'none';\n",
              "\n",
              "        async function convertToInteractive(key) {\n",
              "          const element = document.querySelector('#df-308e7206-c3ae-4d2d-b390-ecb620c56056');\n",
              "          const dataTable =\n",
              "            await google.colab.kernel.invokeFunction('convertToInteractive',\n",
              "                                                     [key], {});\n",
              "          if (!dataTable) return;\n",
              "\n",
              "          const docLinkHtml = 'Like what you see? Visit the ' +\n",
              "            '<a target=\"_blank\" href=https://colab.research.google.com/notebooks/data_table.ipynb>data table notebook</a>'\n",
              "            + ' to learn more about interactive tables.';\n",
              "          element.innerHTML = '';\n",
              "          dataTable['output_type'] = 'display_data';\n",
              "          await google.colab.output.renderOutput(dataTable, element);\n",
              "          const docLink = document.createElement('div');\n",
              "          docLink.innerHTML = docLinkHtml;\n",
              "          element.appendChild(docLink);\n",
              "        }\n",
              "      </script>\n",
              "    </div>\n",
              "  </div>\n",
              "  "
            ]
          },
          "metadata": {},
          "execution_count": 28
        }
      ],
      "source": [
        "# Import pandas\n",
        "import pandas as pd\n",
        "\n",
        "# Load dataset\n",
        "cc_apps = pd.read_excel(\"https://docs.google.com/spreadsheets/d/e/2PACX-1vQf-uyQBw6l2s6aIOgvlWUmT3gdmN9YfRvD1ZEtM62_Z_Lfx2LJPN0iC9BqUUThh6guB-UVfj9gmCl0/pub?output=xlsx\" ,header=None)\n",
        "\n",
        "# Inspect data\n",
        "cc_apps.head()"
      ]
    },
    {
      "cell_type": "code",
      "execution_count": 29,
      "metadata": {
        "dc": {
          "key": "10"
        },
        "tags": [
          "sample_code"
        ],
        "id": "_2ALUrskEXM4",
        "outputId": "ec8e556f-2cb7-49d9-8833-dba07e464c4e",
        "colab": {
          "base_uri": "https://localhost:8080/"
        }
      },
      "outputs": [
        {
          "output_type": "stream",
          "name": "stdout",
          "text": [
            "                 2             7          10             14\n",
            "count    690.000000    690.000000  690.00000     690.000000\n",
            "mean   10455.575304   6488.026406    2.40000    1017.385507\n",
            "std    17929.145792  15242.937710    4.86294    5210.102598\n",
            "min        0.000000      0.000000    0.00000       0.000000\n",
            "25%        2.710000      0.500000    0.00000       0.000000\n",
            "50%       15.000000      5.000000    0.00000       5.000000\n",
            "75%     9615.000000    835.000000    3.00000     395.500000\n",
            "max    44780.000000  44709.000000   67.00000  100000.000000\n",
            "\n",
            "\n",
            "<class 'pandas.core.frame.DataFrame'>\n",
            "RangeIndex: 690 entries, 0 to 689\n",
            "Data columns (total 16 columns):\n",
            " #   Column  Non-Null Count  Dtype  \n",
            "---  ------  --------------  -----  \n",
            " 0   0       690 non-null    object \n",
            " 1   1       690 non-null    object \n",
            " 2   2       690 non-null    float64\n",
            " 3   3       690 non-null    object \n",
            " 4   4       690 non-null    object \n",
            " 5   5       690 non-null    object \n",
            " 6   6       690 non-null    object \n",
            " 7   7       690 non-null    float64\n",
            " 8   8       690 non-null    object \n",
            " 9   9       690 non-null    object \n",
            " 10  10      690 non-null    float64\n",
            " 11  11      690 non-null    object \n",
            " 12  12      690 non-null    object \n",
            " 13  13      690 non-null    object \n",
            " 14  14      690 non-null    float64\n",
            " 15  15      690 non-null    object \n",
            "dtypes: float64(4), object(12)\n",
            "memory usage: 86.4+ KB\n",
            "None\n",
            "\n",
            "\n",
            "    0        1         2  3  4   5   6        7  8  9    10 11 12     13  \\\n",
            "616  b    22.67      0.75  u  g   i   v  1585.00  f  t  1.0  t  g  400.0   \n",
            "617  b    32.25     14.00  y  p  ff  ff     0.00  f  t  2.0  f  g  160.0   \n",
            "618  b    29.58      4.75  u  g   m   v     2.00  f  t  1.0  t  g  460.0   \n",
            "619  b    18.42  10415.00  y  p  aa   v   125.00  t  f  0.0  f  g  120.0   \n",
            "620  b    22.17      2.25  u  g   i   v   125.00  f  f  0.0  f  g  160.0   \n",
            "..  ..      ...       ... .. ..  ..  ..      ... .. ..  ... .. ..    ...   \n",
            "685  b  44794.0  10085.00  y  p   e   h     1.25  f  f  0.0  f  g  260.0   \n",
            "686  a    22.67      0.75  u  g   c   v     2.00  f  t  2.0  t  g  200.0   \n",
            "687  a    25.25  44694.00  y  p  ff  ff     2.00  f  t  1.0  t  g  200.0   \n",
            "688  b    17.92    205.00  u  g  aa   v     0.04  f  f  0.0  f  g  280.0   \n",
            "689  b     35.0   3375.00  u  g   c   h     8.29  f  f  0.0  t  g    0.0   \n",
            "\n",
            "        14 15  \n",
            "616    9.0  -  \n",
            "617    1.0  -  \n",
            "618   68.0  -  \n",
            "619  375.0  -  \n",
            "620   10.0  -  \n",
            "..     ... ..  \n",
            "685    0.0  -  \n",
            "686  394.0  -  \n",
            "687    1.0  -  \n",
            "688  750.0  -  \n",
            "689    0.0  -  \n",
            "\n",
            "[74 rows x 16 columns]\n"
          ]
        }
      ],
      "source": [
        "# Print summary statistics\n",
        "cc_apps_description = cc_apps.describe()\n",
        "print(cc_apps_description)\n",
        "\n",
        "print(\"\\n\")\n",
        "\n",
        "# Print DataFrame information\n",
        "cc_apps_info = cc_apps.info()\n",
        "print(cc_apps_info)\n",
        "\n",
        "print(\"\\n\")\n",
        "\n",
        "# Inspect missing values in the dataset\n",
        "print(cc_apps.tail(74))"
      ]
    },
    {
      "cell_type": "code",
      "execution_count": null,
      "metadata": {
        "dc": {
          "key": "17"
        },
        "tags": [
          "sample_code"
        ],
        "id": "ZNvVxY3hEXM6",
        "outputId": "2e0551df-49d4-4fad-9611-3758eb1f04f4",
        "colab": {
          "base_uri": "https://localhost:8080/"
        }
      },
      "outputs": [
        {
          "output_type": "stream",
          "name": "stdout",
          "text": [
            "     b    30.83       0.0  u  g   w   v      1.25  t t.1   1.0  f g.1  202.0  \\\n",
            "672  ?  44710.0      2.00  y  p   e   h      2.00  f   f   0.0  f   g  256.0   \n",
            "673  a    37.33  44683.00  u  g   i   h      0.21  f   f   0.0  f   g  260.0   \n",
            "674  a    41.58  44652.00  u  g  aa   v    665.00  f   f   0.0  f   g  240.0   \n",
            "675  a    30.58  10665.00  u  g   q   h     85.00  f   t  12.0  t   g  129.0   \n",
            "676  b    19.42      7.25  u  g   m   v      0.04  f   t   1.0  f   g  100.0   \n",
            "677  a    17.92     10.21  u  g  ff  ff      0.00  f   f   0.0  f   g    0.0   \n",
            "678  a  44793.0      1.25  u  g   c   v      0.00  f   f   0.0  f   g    0.0   \n",
            "679  b  44700.0      0.29  u  g   k   v      0.29  f   f   0.0  f   g  280.0   \n",
            "680  b    27.83      1.00  y  p   d   h      3.00  f   f   0.0  f   g  176.0   \n",
            "681  b  44790.0      3.29  u  g   i   v    335.00  f   f   0.0  t   g  140.0   \n",
            "682  b    36.42      0.75  y  p   d   v    585.00  f   f   0.0  f   g  240.0   \n",
            "683  b    40.58      3.29  u  g   m   v  44684.00  f   f   0.0  t   s  400.0   \n",
            "684  b  44794.0  10085.00  y  p   e   h      1.25  f   f   0.0  f   g  260.0   \n",
            "685  a    22.67      0.75  u  g   c   v      2.00  f   t   2.0  t   g  200.0   \n",
            "686  a    25.25  44694.00  y  p  ff  ff      2.00  f   t   1.0  t   g  200.0   \n",
            "687  b    17.92    205.00  u  g  aa   v      0.04  f   f   0.0  f   g  280.0   \n",
            "688  b     35.0   3375.00  u  g   c   h      8.29  f   f   0.0  t   g    0.0   \n",
            "\n",
            "     0.0.1  +  \n",
            "672   17.0  -  \n",
            "673  246.0  -  \n",
            "674  237.0  -  \n",
            "675    3.0  -  \n",
            "676    1.0  -  \n",
            "677   50.0  -  \n",
            "678    0.0  -  \n",
            "679  364.0  -  \n",
            "680  537.0  -  \n",
            "681    2.0  -  \n",
            "682    3.0  -  \n",
            "683    0.0  -  \n",
            "684    0.0  -  \n",
            "685  394.0  -  \n",
            "686    1.0  -  \n",
            "687  750.0  -  \n",
            "688    0.0  -  \n",
            "       b    30.83       0.0  u  g   w   v      1.25  t t.1   1.0  f g.1  \\\n",
            "672  NaN  44710.0      2.00  y  p   e   h      2.00  f   f   0.0  f   g   \n",
            "673    a    37.33  44683.00  u  g   i   h      0.21  f   f   0.0  f   g   \n",
            "674    a    41.58  44652.00  u  g  aa   v    665.00  f   f   0.0  f   g   \n",
            "675    a    30.58  10665.00  u  g   q   h     85.00  f   t  12.0  t   g   \n",
            "676    b    19.42      7.25  u  g   m   v      0.04  f   t   1.0  f   g   \n",
            "677    a    17.92     10.21  u  g  ff  ff      0.00  f   f   0.0  f   g   \n",
            "678    a  44793.0      1.25  u  g   c   v      0.00  f   f   0.0  f   g   \n",
            "679    b  44700.0      0.29  u  g   k   v      0.29  f   f   0.0  f   g   \n",
            "680    b    27.83      1.00  y  p   d   h      3.00  f   f   0.0  f   g   \n",
            "681    b  44790.0      3.29  u  g   i   v    335.00  f   f   0.0  t   g   \n",
            "682    b    36.42      0.75  y  p   d   v    585.00  f   f   0.0  f   g   \n",
            "683    b    40.58      3.29  u  g   m   v  44684.00  f   f   0.0  t   s   \n",
            "684    b  44794.0  10085.00  y  p   e   h      1.25  f   f   0.0  f   g   \n",
            "685    a    22.67      0.75  u  g   c   v      2.00  f   t   2.0  t   g   \n",
            "686    a    25.25  44694.00  y  p  ff  ff      2.00  f   t   1.0  t   g   \n",
            "687    b    17.92    205.00  u  g  aa   v      0.04  f   f   0.0  f   g   \n",
            "688    b     35.0   3375.00  u  g   c   h      8.29  f   f   0.0  t   g   \n",
            "\n",
            "     202.0  0.0.1  +  \n",
            "672  256.0   17.0  -  \n",
            "673  260.0  246.0  -  \n",
            "674  240.0  237.0  -  \n",
            "675  129.0    3.0  -  \n",
            "676  100.0    1.0  -  \n",
            "677    0.0   50.0  -  \n",
            "678    0.0    0.0  -  \n",
            "679  280.0  364.0  -  \n",
            "680  176.0  537.0  -  \n",
            "681  140.0    2.0  -  \n",
            "682  240.0    3.0  -  \n",
            "683  400.0    0.0  -  \n",
            "684  260.0    0.0  -  \n",
            "685  200.0  394.0  -  \n",
            "686  200.0    1.0  -  \n",
            "687  280.0  750.0  -  \n",
            "688    0.0    0.0  -  \n"
          ]
        }
      ],
      "source": [
        "# Import numpy\n",
        "import numpy as np\n",
        "\n",
        "# Inspect missing values in the dataset\n",
        "print(cc_apps.tail(17))\n",
        "\n",
        "# Replace the '?'s with NaN\n",
        "cc_apps = cc_apps.replace('?', np.nan)\n",
        "\n",
        "# Inspect the missing values again\n",
        "print(cc_apps.tail(17))"
      ]
    },
    {
      "cell_type": "code",
      "execution_count": null,
      "metadata": {
        "dc": {
          "key": "24"
        },
        "tags": [
          "sample_code"
        ],
        "id": "MvxTDFT-EXM8",
        "outputId": "fa78f9fe-36b5-43e1-fbbf-753f9da809c4",
        "colab": {
          "base_uri": "https://localhost:8080/"
        }
      },
      "outputs": [
        {
          "output_type": "stream",
          "name": "stderr",
          "text": [
            "/usr/local/lib/python3.7/dist-packages/ipykernel_launcher.py:2: FutureWarning: Dropping of nuisance columns in DataFrame reductions (with 'numeric_only=None') is deprecated; in a future version this will raise TypeError.  Select only valid columns before calling the reduction.\n",
            "  \n"
          ]
        },
        {
          "output_type": "execute_result",
          "data": {
            "text/plain": [
              "54"
            ]
          },
          "metadata": {},
          "execution_count": 21
        }
      ],
      "source": [
        "# Impute the missing values with mean imputation\n",
        "cc_apps.fillna(cc_apps.mean(), inplace=True)\n",
        "\n",
        "# Count the number of NaNs in the dataset to verify\n",
        "cc_apps.isnull().values.sum()"
      ]
    },
    {
      "cell_type": "code",
      "execution_count": null,
      "metadata": {
        "dc": {
          "key": "31"
        },
        "tags": [
          "sample_code"
        ],
        "id": "LvweApcwEXM9",
        "outputId": "05963c91-1761-47a2-9500-e2639bf7432f",
        "colab": {
          "base_uri": "https://localhost:8080/"
        }
      },
      "outputs": [
        {
          "output_type": "execute_result",
          "data": {
            "text/plain": [
              "0"
            ]
          },
          "metadata": {},
          "execution_count": 22
        }
      ],
      "source": [
        "# Iterate over each column of cc_apps\n",
        "for col in cc_apps.columns:\n",
        "    # Check if the column is of object type\n",
        "    if cc_apps[col].dtypes == 'object':\n",
        "        # Impute with the most frequent value\n",
        "        cc_apps = cc_apps.fillna(cc_apps[col].value_counts().index[0])\n",
        "\n",
        "# Count the number of NaNs in the dataset and print the counts to verify\n",
        "cc_apps.isnull().values.sum()"
      ]
    },
    {
      "cell_type": "code",
      "execution_count": 31,
      "metadata": {
        "dc": {
          "key": "38"
        },
        "tags": [
          "sample_code"
        ],
        "id": "NQNh9K_dEXM-"
      },
      "outputs": [],
      "source": [
        "# Import LabelEncoder\n",
        "from sklearn.preprocessing import LabelEncoder\n",
        "\n",
        "# Instantiate LabelEncoder\n",
        "le = LabelEncoder()\n",
        "\n",
        "# Iterate over all the values of each column and extract their dtypes\n",
        "for col in cc_apps.columns:\n",
        "    # Compare if the dtype is object\n",
        "    if cc_apps[col].dtype=='object':\n",
        "    # Use LabelEncoder to do the numeric transformation\n",
        "        cc_apps[col]=le.fit_transform(cc_apps[col].astype(str))"
      ]
    },
    {
      "cell_type": "code",
      "execution_count": 32,
      "metadata": {
        "dc": {
          "key": "45"
        },
        "tags": [
          "sample_code"
        ],
        "id": "x_kWNPTgEXM_"
      },
      "outputs": [],
      "source": [
        "# Import train_test_split\n",
        "from sklearn.model_selection import train_test_split\n",
        "\n",
        "# Drop the features 11 and 13 and convert the DataFrame to a NumPy array\n",
        "cc_apps = cc_apps.drop([11, 13], axis=1)\n",
        "cc_apps = cc_apps.values\n",
        "\n",
        "# Segregate features and labels into separate variables\n",
        "X,y = cc_apps[:,0:13] , cc_apps[:,13]\n",
        "\n",
        "# Split into train and test sets\n",
        "X_train, X_test, y_train, y_test = train_test_split(X,\n",
        "                                y,\n",
        "                                test_size=0.33,\n",
        "                                random_state=42)"
      ]
    },
    {
      "cell_type": "code",
      "execution_count": 39,
      "metadata": {
        "dc": {
          "key": "52"
        },
        "tags": [
          "sample_code"
        ],
        "id": "RyTlLbXTEXNA"
      },
      "outputs": [],
      "source": [
        "# Import MinMaxScaler\n",
        "from sklearn.preprocessing import MinMaxScaler\n",
        "\n",
        "# Instantiate MinMaxScaler and use it to rescale X_train and X_test\n",
        "scaler = MinMaxScaler(feature_range=(0, 1))\n",
        "rescaledX_train = scaler.fit_transform(X_train)\n",
        "rescaledX_test = scaler.fit_transform(X_test)"
      ]
    },
    {
      "cell_type": "code",
      "execution_count": 34,
      "metadata": {
        "dc": {
          "key": "59"
        },
        "tags": [
          "sample_code"
        ],
        "id": "JMSN-GEAEXNA",
        "outputId": "02f11941-7667-4e15-d842-c346c28dfbd3",
        "colab": {
          "base_uri": "https://localhost:8080/"
        }
      },
      "outputs": [
        {
          "output_type": "execute_result",
          "data": {
            "text/plain": [
              "LogisticRegression()"
            ]
          },
          "metadata": {},
          "execution_count": 34
        }
      ],
      "source": [
        "# Import LogisticRegression\n",
        "from sklearn.linear_model import LogisticRegression\n",
        "\n",
        "# Instantiate a LogisticRegression classifier with default parameter values\n",
        "logreg = LogisticRegression()\n",
        "\n",
        "# Fit logreg to the train set\n",
        "logreg.fit(rescaledX_train, y_train)"
      ]
    },
    {
      "cell_type": "code",
      "execution_count": 35,
      "metadata": {
        "dc": {
          "key": "66"
        },
        "tags": [
          "sample_code"
        ],
        "id": "f7AA9A8JEXNB",
        "outputId": "e28fca2a-b4be-4b06-85ab-19dbf7c03db5",
        "colab": {
          "base_uri": "https://localhost:8080/"
        }
      },
      "outputs": [
        {
          "output_type": "stream",
          "name": "stdout",
          "text": [
            "Accuracy of logistic regression classifier:  0.8464912280701754\n",
            "[[ 93  10]\n",
            " [ 25 100]]\n"
          ]
        }
      ],
      "source": [
        "# Import confusion_matrix\n",
        "from sklearn.metrics import confusion_matrix\n",
        "\n",
        "# Use logreg to predict instances from the test set and store it\n",
        "y_pred = logreg.predict(rescaledX_test)\n",
        "\n",
        "# Get the accuracy score of logreg model and print it\n",
        "print(\"Accuracy of logistic regression classifier: \", logreg.score(rescaledX_test, y_test))\n",
        "\n",
        "# Print the confusion matrix of the logreg model\n",
        "print(confusion_matrix(y_test, y_pred))"
      ]
    },
    {
      "cell_type": "code",
      "execution_count": 36,
      "metadata": {
        "dc": {
          "key": "73"
        },
        "tags": [
          "sample_code"
        ],
        "id": "y990dbCQEXNC"
      },
      "outputs": [],
      "source": [
        "# Import GridSearchCV\n",
        "from sklearn.model_selection import GridSearchCV\n",
        "\n",
        "# Define the grid of values for tol and max_iter\n",
        "tol = [0.01, 0.001, 0.0001]\n",
        "max_iter = [100, 150, 200]\n",
        "\n",
        "# Create a dictionary where tol and max_iter are keys and the lists of their values are corresponding values\n",
        "param_grid = dict(tol=tol, max_iter=max_iter)"
      ]
    },
    {
      "cell_type": "code",
      "execution_count": 37,
      "metadata": {
        "dc": {
          "key": "80"
        },
        "tags": [
          "sample_code"
        ],
        "id": "qscAA8yJEXND",
        "outputId": "8f7060f0-6c3c-479b-a211-55af09e7410c",
        "colab": {
          "base_uri": "https://localhost:8080/"
        }
      },
      "outputs": [
        {
          "output_type": "stream",
          "name": "stdout",
          "text": [
            "Best: 0.847826 using {'max_iter': 100, 'tol': 0.01}\n"
          ]
        }
      ],
      "source": [
        "# Instantiate GridSearchCV with the required parameters\n",
        "grid_model = GridSearchCV(estimator=logreg, param_grid=param_grid, cv=5)\n",
        "\n",
        "# Use scaler to rescale X and assign it to rescaledX\n",
        "rescaledX = scaler.fit_transform(X)\n",
        "\n",
        "# Fit data to grid_model\n",
        "grid_model_result = grid_model.fit(rescaledX, y)\n",
        "\n",
        "# Summarize results\n",
        "best_score, best_params = grid_model_result.best_score_, grid_model_result.best_params_\n",
        "print(\"Best: %f using %s\" % (best_score, best_params))"
      ]
    }
  ],
  "metadata": {
    "kernelspec": {
      "display_name": "Python 3",
      "language": "python",
      "name": "python3"
    },
    "language_info": {
      "codemirror_mode": {
        "name": "ipython",
        "version": 3
      },
      "file_extension": ".py",
      "mimetype": "text/x-python",
      "name": "python",
      "nbconvert_exporter": "python",
      "pygments_lexer": "ipython3",
      "version": "3.7.6"
    },
    "colab": {
      "name": "H201S5_11JeanSimon.ipynb",
      "provenance": [],
      "collapsed_sections": []
    }
  },
  "nbformat": 4,
  "nbformat_minor": 0
}